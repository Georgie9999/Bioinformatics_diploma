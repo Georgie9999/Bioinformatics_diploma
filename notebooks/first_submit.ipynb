{
 "cells": [
  {
   "cell_type": "code",
   "execution_count": 2,
   "id": "initial_id",
   "metadata": {
    "collapsed": true,
    "ExecuteTime": {
     "end_time": "2023-10-09T08:47:10.710316300Z",
     "start_time": "2023-10-09T08:47:10.669909Z"
    }
   },
   "outputs": [],
   "source": [
    "import pandas as pd\n",
    "import numpy as np\n",
    "import seaborn as sns\n",
    "\n"
   ]
  },
  {
   "cell_type": "code",
   "execution_count": 9,
   "outputs": [
    {
     "data": {
      "text/plain": "              cell_type             sm_name sm_lincs_id  \\\n0              NK cells        Clotrimazole    LSM-5341   \n1          T cells CD4+        Clotrimazole    LSM-5341   \n2          T cells CD8+        Clotrimazole    LSM-5341   \n3    T regulatory cells        Clotrimazole    LSM-5341   \n4              NK cells  Mometasone Furoate    LSM-3349   \n..                  ...                 ...         ...   \n609  T regulatory cells        Atorvastatin    LSM-5771   \n610            NK cells           Riociguat   LSM-45758   \n611        T cells CD4+           Riociguat   LSM-45758   \n612        T cells CD8+           Riociguat   LSM-45758   \n613  T regulatory cells           Riociguat   LSM-45758   \n\n                                                SMILES  control      A1BG  \\\n0               Clc1ccccc1C(c1ccccc1)(c1ccccc1)n1ccnc1    False  0.104720   \n1               Clc1ccccc1C(c1ccccc1)(c1ccccc1)n1ccnc1    False  0.915953   \n2               Clc1ccccc1C(c1ccccc1)(c1ccccc1)n1ccnc1    False -0.387721   \n3               Clc1ccccc1C(c1ccccc1)(c1ccccc1)n1ccnc1    False  0.232893   \n4    C[C@@H]1C[C@H]2[C@@H]3CCC4=CC(=O)C=C[C@]4(C)[C...    False  4.290652   \n..                                                 ...      ...       ...   \n609  CC(C)c1c(C(=O)Nc2ccccc2)c(-c2ccccc2)c(-c2ccc(F...    False -0.014372   \n610  COC(=O)N(C)c1c(N)nc(-c2nn(Cc3ccccc3F)c3ncccc23...    False -0.455549   \n611  COC(=O)N(C)c1c(N)nc(-c2nn(Cc3ccccc3F)c3ncccc23...    False  0.338168   \n612  COC(=O)N(C)c1c(N)nc(-c2nn(Cc3ccccc3F)c3ncccc23...    False  0.101138   \n613  COC(=O)N(C)c1c(N)nc(-c2nn(Cc3ccccc3F)c3ncccc23...    False -0.757116   \n\n     A1BG-AS1       A2M   A2M-AS1     A2MP1  ...      ZUP1      ZW10  \\\n0   -0.077524 -1.625596 -0.144545  0.143555  ... -0.227781 -0.010752   \n1   -0.884380  0.371834 -0.081677 -0.498266  ... -0.494985 -0.303419   \n2   -0.305378  0.567777  0.303895 -0.022653  ... -0.119422 -0.033608   \n3    0.129029  0.336897  0.486946  0.767661  ...  0.451679  0.704643   \n4   -0.063864 -0.017443 -0.541154  0.570982  ...  0.758474  0.510762   \n..        ...       ...       ...       ...  ...       ...       ...   \n609 -0.122464 -0.456366 -0.147894 -0.545382  ... -0.549987 -2.200925   \n610  0.188181  0.595734 -0.100299  0.786192  ... -1.236905  0.003854   \n611 -0.109079  0.270182 -0.436586 -0.069476  ...  0.077579 -1.101637   \n612 -0.409724 -0.606292 -0.071300 -0.001789  ...  0.005951 -0.893093   \n613  0.085910 -0.730025 -1.367801 -0.695944  ...  0.232343 -2.247816   \n\n       ZWILCH     ZWINT      ZXDA      ZXDB      ZXDC    ZYG11B       ZYX  \\\n0   -0.023881  0.674536 -0.453068  0.005164 -0.094959  0.034127  0.221377   \n1    0.304955 -0.333905 -0.315516 -0.369626 -0.095079  0.704780  1.096702   \n2   -0.153123  0.183597 -0.555678 -1.494789 -0.213550  0.415768  0.078439   \n3    0.015468 -0.103868  0.865027  0.189114  0.224700 -0.048233  0.216139   \n4    0.607401 -0.123059  0.214366  0.487838 -0.819775  0.112365 -0.122193   \n..        ...       ...       ...       ...       ...       ...       ...   \n609  0.359806  1.073983  0.356939 -0.029603 -0.528817  0.105138  0.491015   \n610 -0.197569 -0.175307  0.101391  1.028394  0.034144 -0.231642  1.023994   \n611  0.457201  0.535184 -0.198404 -0.005004  0.552810 -0.209077  0.389751   \n612 -1.003029 -0.080367 -0.076604  0.024849  0.012862 -0.029684  0.005506   \n613 -0.346036 -0.919567 -1.131372 -0.120252 -0.064537 -0.603280 -0.098041   \n\n        ZZEF1  \n0    0.368755  \n1   -0.869887  \n2   -0.259365  \n3   -0.085024  \n4    0.676629  \n..        ...  \n609 -0.979951  \n610 -0.064760  \n611 -0.337082  \n612 -1.733112  \n613 -0.750681  \n\n[614 rows x 18216 columns]",
      "text/html": "<div>\n<style scoped>\n    .dataframe tbody tr th:only-of-type {\n        vertical-align: middle;\n    }\n\n    .dataframe tbody tr th {\n        vertical-align: top;\n    }\n\n    .dataframe thead th {\n        text-align: right;\n    }\n</style>\n<table border=\"1\" class=\"dataframe\">\n  <thead>\n    <tr style=\"text-align: right;\">\n      <th></th>\n      <th>cell_type</th>\n      <th>sm_name</th>\n      <th>sm_lincs_id</th>\n      <th>SMILES</th>\n      <th>control</th>\n      <th>A1BG</th>\n      <th>A1BG-AS1</th>\n      <th>A2M</th>\n      <th>A2M-AS1</th>\n      <th>A2MP1</th>\n      <th>...</th>\n      <th>ZUP1</th>\n      <th>ZW10</th>\n      <th>ZWILCH</th>\n      <th>ZWINT</th>\n      <th>ZXDA</th>\n      <th>ZXDB</th>\n      <th>ZXDC</th>\n      <th>ZYG11B</th>\n      <th>ZYX</th>\n      <th>ZZEF1</th>\n    </tr>\n  </thead>\n  <tbody>\n    <tr>\n      <th>0</th>\n      <td>NK cells</td>\n      <td>Clotrimazole</td>\n      <td>LSM-5341</td>\n      <td>Clc1ccccc1C(c1ccccc1)(c1ccccc1)n1ccnc1</td>\n      <td>False</td>\n      <td>0.104720</td>\n      <td>-0.077524</td>\n      <td>-1.625596</td>\n      <td>-0.144545</td>\n      <td>0.143555</td>\n      <td>...</td>\n      <td>-0.227781</td>\n      <td>-0.010752</td>\n      <td>-0.023881</td>\n      <td>0.674536</td>\n      <td>-0.453068</td>\n      <td>0.005164</td>\n      <td>-0.094959</td>\n      <td>0.034127</td>\n      <td>0.221377</td>\n      <td>0.368755</td>\n    </tr>\n    <tr>\n      <th>1</th>\n      <td>T cells CD4+</td>\n      <td>Clotrimazole</td>\n      <td>LSM-5341</td>\n      <td>Clc1ccccc1C(c1ccccc1)(c1ccccc1)n1ccnc1</td>\n      <td>False</td>\n      <td>0.915953</td>\n      <td>-0.884380</td>\n      <td>0.371834</td>\n      <td>-0.081677</td>\n      <td>-0.498266</td>\n      <td>...</td>\n      <td>-0.494985</td>\n      <td>-0.303419</td>\n      <td>0.304955</td>\n      <td>-0.333905</td>\n      <td>-0.315516</td>\n      <td>-0.369626</td>\n      <td>-0.095079</td>\n      <td>0.704780</td>\n      <td>1.096702</td>\n      <td>-0.869887</td>\n    </tr>\n    <tr>\n      <th>2</th>\n      <td>T cells CD8+</td>\n      <td>Clotrimazole</td>\n      <td>LSM-5341</td>\n      <td>Clc1ccccc1C(c1ccccc1)(c1ccccc1)n1ccnc1</td>\n      <td>False</td>\n      <td>-0.387721</td>\n      <td>-0.305378</td>\n      <td>0.567777</td>\n      <td>0.303895</td>\n      <td>-0.022653</td>\n      <td>...</td>\n      <td>-0.119422</td>\n      <td>-0.033608</td>\n      <td>-0.153123</td>\n      <td>0.183597</td>\n      <td>-0.555678</td>\n      <td>-1.494789</td>\n      <td>-0.213550</td>\n      <td>0.415768</td>\n      <td>0.078439</td>\n      <td>-0.259365</td>\n    </tr>\n    <tr>\n      <th>3</th>\n      <td>T regulatory cells</td>\n      <td>Clotrimazole</td>\n      <td>LSM-5341</td>\n      <td>Clc1ccccc1C(c1ccccc1)(c1ccccc1)n1ccnc1</td>\n      <td>False</td>\n      <td>0.232893</td>\n      <td>0.129029</td>\n      <td>0.336897</td>\n      <td>0.486946</td>\n      <td>0.767661</td>\n      <td>...</td>\n      <td>0.451679</td>\n      <td>0.704643</td>\n      <td>0.015468</td>\n      <td>-0.103868</td>\n      <td>0.865027</td>\n      <td>0.189114</td>\n      <td>0.224700</td>\n      <td>-0.048233</td>\n      <td>0.216139</td>\n      <td>-0.085024</td>\n    </tr>\n    <tr>\n      <th>4</th>\n      <td>NK cells</td>\n      <td>Mometasone Furoate</td>\n      <td>LSM-3349</td>\n      <td>C[C@@H]1C[C@H]2[C@@H]3CCC4=CC(=O)C=C[C@]4(C)[C...</td>\n      <td>False</td>\n      <td>4.290652</td>\n      <td>-0.063864</td>\n      <td>-0.017443</td>\n      <td>-0.541154</td>\n      <td>0.570982</td>\n      <td>...</td>\n      <td>0.758474</td>\n      <td>0.510762</td>\n      <td>0.607401</td>\n      <td>-0.123059</td>\n      <td>0.214366</td>\n      <td>0.487838</td>\n      <td>-0.819775</td>\n      <td>0.112365</td>\n      <td>-0.122193</td>\n      <td>0.676629</td>\n    </tr>\n    <tr>\n      <th>...</th>\n      <td>...</td>\n      <td>...</td>\n      <td>...</td>\n      <td>...</td>\n      <td>...</td>\n      <td>...</td>\n      <td>...</td>\n      <td>...</td>\n      <td>...</td>\n      <td>...</td>\n      <td>...</td>\n      <td>...</td>\n      <td>...</td>\n      <td>...</td>\n      <td>...</td>\n      <td>...</td>\n      <td>...</td>\n      <td>...</td>\n      <td>...</td>\n      <td>...</td>\n      <td>...</td>\n    </tr>\n    <tr>\n      <th>609</th>\n      <td>T regulatory cells</td>\n      <td>Atorvastatin</td>\n      <td>LSM-5771</td>\n      <td>CC(C)c1c(C(=O)Nc2ccccc2)c(-c2ccccc2)c(-c2ccc(F...</td>\n      <td>False</td>\n      <td>-0.014372</td>\n      <td>-0.122464</td>\n      <td>-0.456366</td>\n      <td>-0.147894</td>\n      <td>-0.545382</td>\n      <td>...</td>\n      <td>-0.549987</td>\n      <td>-2.200925</td>\n      <td>0.359806</td>\n      <td>1.073983</td>\n      <td>0.356939</td>\n      <td>-0.029603</td>\n      <td>-0.528817</td>\n      <td>0.105138</td>\n      <td>0.491015</td>\n      <td>-0.979951</td>\n    </tr>\n    <tr>\n      <th>610</th>\n      <td>NK cells</td>\n      <td>Riociguat</td>\n      <td>LSM-45758</td>\n      <td>COC(=O)N(C)c1c(N)nc(-c2nn(Cc3ccccc3F)c3ncccc23...</td>\n      <td>False</td>\n      <td>-0.455549</td>\n      <td>0.188181</td>\n      <td>0.595734</td>\n      <td>-0.100299</td>\n      <td>0.786192</td>\n      <td>...</td>\n      <td>-1.236905</td>\n      <td>0.003854</td>\n      <td>-0.197569</td>\n      <td>-0.175307</td>\n      <td>0.101391</td>\n      <td>1.028394</td>\n      <td>0.034144</td>\n      <td>-0.231642</td>\n      <td>1.023994</td>\n      <td>-0.064760</td>\n    </tr>\n    <tr>\n      <th>611</th>\n      <td>T cells CD4+</td>\n      <td>Riociguat</td>\n      <td>LSM-45758</td>\n      <td>COC(=O)N(C)c1c(N)nc(-c2nn(Cc3ccccc3F)c3ncccc23...</td>\n      <td>False</td>\n      <td>0.338168</td>\n      <td>-0.109079</td>\n      <td>0.270182</td>\n      <td>-0.436586</td>\n      <td>-0.069476</td>\n      <td>...</td>\n      <td>0.077579</td>\n      <td>-1.101637</td>\n      <td>0.457201</td>\n      <td>0.535184</td>\n      <td>-0.198404</td>\n      <td>-0.005004</td>\n      <td>0.552810</td>\n      <td>-0.209077</td>\n      <td>0.389751</td>\n      <td>-0.337082</td>\n    </tr>\n    <tr>\n      <th>612</th>\n      <td>T cells CD8+</td>\n      <td>Riociguat</td>\n      <td>LSM-45758</td>\n      <td>COC(=O)N(C)c1c(N)nc(-c2nn(Cc3ccccc3F)c3ncccc23...</td>\n      <td>False</td>\n      <td>0.101138</td>\n      <td>-0.409724</td>\n      <td>-0.606292</td>\n      <td>-0.071300</td>\n      <td>-0.001789</td>\n      <td>...</td>\n      <td>0.005951</td>\n      <td>-0.893093</td>\n      <td>-1.003029</td>\n      <td>-0.080367</td>\n      <td>-0.076604</td>\n      <td>0.024849</td>\n      <td>0.012862</td>\n      <td>-0.029684</td>\n      <td>0.005506</td>\n      <td>-1.733112</td>\n    </tr>\n    <tr>\n      <th>613</th>\n      <td>T regulatory cells</td>\n      <td>Riociguat</td>\n      <td>LSM-45758</td>\n      <td>COC(=O)N(C)c1c(N)nc(-c2nn(Cc3ccccc3F)c3ncccc23...</td>\n      <td>False</td>\n      <td>-0.757116</td>\n      <td>0.085910</td>\n      <td>-0.730025</td>\n      <td>-1.367801</td>\n      <td>-0.695944</td>\n      <td>...</td>\n      <td>0.232343</td>\n      <td>-2.247816</td>\n      <td>-0.346036</td>\n      <td>-0.919567</td>\n      <td>-1.131372</td>\n      <td>-0.120252</td>\n      <td>-0.064537</td>\n      <td>-0.603280</td>\n      <td>-0.098041</td>\n      <td>-0.750681</td>\n    </tr>\n  </tbody>\n</table>\n<p>614 rows × 18216 columns</p>\n</div>"
     },
     "execution_count": 9,
     "metadata": {},
     "output_type": "execute_result"
    }
   ],
   "source": [
    "de_train = pd.read_parquet(\"../data/de_train.parquet\") # основной датасет для работы\n",
    "de_train"
   ],
   "metadata": {
    "collapsed": false,
    "ExecuteTime": {
     "end_time": "2023-10-09T09:00:23.101189800Z",
     "start_time": "2023-10-09T09:00:20.999646100Z"
    }
   },
   "id": "71e6523fd488a952"
  },
  {
   "cell_type": "markdown",
   "source": [
    "# Описание данных:\n",
    "- Гены A1BG, A1BG-AS1, …, ZZEF1(всего 18 211) - Значение дифференциальной экспрессии (-log10(p-value) * sign(LFC)) для каждого гена. Здесь LFC представляет собой предполагаемое логарифмическое изменение экспрессии между обработанным и контрольным состоянием после усадки, рассчитанное Лиммой. Положительный LFC означает, что уровень гена повышается в условиях лечения по сравнению с контролем.\n",
    "\n",
    "- cell_type- Аннотированный тип каждой клетки на основе экспрессии РНК.\n",
    "\n",
    "- sm_name- Основное имя (родительского) соединения (в стандартизированном представлении), выбранное LINCS. Это предусмотрено для сопоставления данных этого эксперимента с данными карты связности LINCS.\n",
    "\n",
    "- sm_lincs_id- Глобальный идентификатор LINCS ID (родительского) соединения (в стандартизированном представлении). Это предусмотрено для сопоставления данных этого эксперимента с данными карты связности LINCS.\n",
    "\n",
    "- SMILES- Упрощенная система молекулярного ввода (SMILES) представляет соединения, использованные в эксперименте. Это одномерное представление молекулярной структуры. Эти SMILES предоставлены Cellarity на основе конкретных соединений, заказанных для этого эксперимента.\n",
    "\n",
    "- control — Логическое значение, указывающее, использовался ли этот экземпляр в качестве элемента управления."
   ],
   "metadata": {
    "collapsed": false
   },
   "id": "b6f027cde46ba90"
  },
  {
   "cell_type": "code",
   "execution_count": 10,
   "outputs": [
    {
     "data": {
      "text/plain": "       cell_type sm_name sm_lincs_id  \\\ncount        614     614         614   \nunique         6     146         146   \ntop     NK cells    R428   LSM-45574   \nfreq         146       6           6   \n\n                                                   SMILES control  \ncount                                                 614     614  \nunique                                                146       2  \ntop     Nc1nc(Nc2ccc3c(c2)CC[C@@H](N2CCCC2)CC3)nn1-c1c...   False  \nfreq                                                    6     602  ",
      "text/html": "<div>\n<style scoped>\n    .dataframe tbody tr th:only-of-type {\n        vertical-align: middle;\n    }\n\n    .dataframe tbody tr th {\n        vertical-align: top;\n    }\n\n    .dataframe thead th {\n        text-align: right;\n    }\n</style>\n<table border=\"1\" class=\"dataframe\">\n  <thead>\n    <tr style=\"text-align: right;\">\n      <th></th>\n      <th>cell_type</th>\n      <th>sm_name</th>\n      <th>sm_lincs_id</th>\n      <th>SMILES</th>\n      <th>control</th>\n    </tr>\n  </thead>\n  <tbody>\n    <tr>\n      <th>count</th>\n      <td>614</td>\n      <td>614</td>\n      <td>614</td>\n      <td>614</td>\n      <td>614</td>\n    </tr>\n    <tr>\n      <th>unique</th>\n      <td>6</td>\n      <td>146</td>\n      <td>146</td>\n      <td>146</td>\n      <td>2</td>\n    </tr>\n    <tr>\n      <th>top</th>\n      <td>NK cells</td>\n      <td>R428</td>\n      <td>LSM-45574</td>\n      <td>Nc1nc(Nc2ccc3c(c2)CC[C@@H](N2CCCC2)CC3)nn1-c1c...</td>\n      <td>False</td>\n    </tr>\n    <tr>\n      <th>freq</th>\n      <td>146</td>\n      <td>6</td>\n      <td>6</td>\n      <td>6</td>\n      <td>602</td>\n    </tr>\n  </tbody>\n</table>\n</div>"
     },
     "execution_count": 10,
     "metadata": {},
     "output_type": "execute_result"
    }
   ],
   "source": [
    "more_info = de_train[[\"cell_type\", \"sm_name\", \"sm_lincs_id\", \"SMILES\", \"control\"]] # дополнительная информация; вся остальные 18211 колонок описывают гены\n",
    "more_info.describe()"
   ],
   "metadata": {
    "collapsed": false,
    "ExecuteTime": {
     "end_time": "2023-10-09T09:00:23.223862200Z",
     "start_time": "2023-10-09T09:00:23.101189800Z"
    }
   },
   "id": "ca51ff6dbb2c22f4"
  },
  {
   "cell_type": "code",
   "execution_count": 11,
   "outputs": [],
   "source": [
    "# de_train[de_train.isna()].count().sum()"
   ],
   "metadata": {
    "collapsed": false,
    "ExecuteTime": {
     "end_time": "2023-10-09T09:00:23.304770600Z",
     "start_time": "2023-10-09T09:00:23.133299800Z"
    }
   },
   "id": "27a20809f488fe04"
  },
  {
   "cell_type": "code",
   "execution_count": 12,
   "outputs": [],
   "source": [
    "id_map = pd.read_csv(\"../data/id_map.csv\")\n"
   ],
   "metadata": {
    "collapsed": false,
    "ExecuteTime": {
     "end_time": "2023-10-09T09:00:23.304770600Z",
     "start_time": "2023-10-09T09:00:23.137819600Z"
    }
   },
   "id": "c68d8fc6a0707d53"
  },
  {
   "cell_type": "code",
   "execution_count": 13,
   "outputs": [
    {
     "data": {
      "text/plain": "      id      cell_type                                            sm_name\n0      0        B cells  5-(9-Isopropyl-8-methyl-2-morpholino-9H-purin-...\n1      1        B cells                                 ABT-199 (GDC-0199)\n2      2        B cells                                             ABT737\n3      3        B cells                            AMD-070 (hydrochloride)\n4      4        B cells                                            AT 7867\n..   ...            ...                                                ...\n250  250  Myeloid cells                                         Vandetanib\n251  251  Myeloid cells                                         Vanoxerine\n252  252  Myeloid cells                                         Vardenafil\n253  253  Myeloid cells                                         Vorinostat\n254  254  Myeloid cells                                           YK 4-279\n\n[255 rows x 3 columns]",
      "text/html": "<div>\n<style scoped>\n    .dataframe tbody tr th:only-of-type {\n        vertical-align: middle;\n    }\n\n    .dataframe tbody tr th {\n        vertical-align: top;\n    }\n\n    .dataframe thead th {\n        text-align: right;\n    }\n</style>\n<table border=\"1\" class=\"dataframe\">\n  <thead>\n    <tr style=\"text-align: right;\">\n      <th></th>\n      <th>id</th>\n      <th>cell_type</th>\n      <th>sm_name</th>\n    </tr>\n  </thead>\n  <tbody>\n    <tr>\n      <th>0</th>\n      <td>0</td>\n      <td>B cells</td>\n      <td>5-(9-Isopropyl-8-methyl-2-morpholino-9H-purin-...</td>\n    </tr>\n    <tr>\n      <th>1</th>\n      <td>1</td>\n      <td>B cells</td>\n      <td>ABT-199 (GDC-0199)</td>\n    </tr>\n    <tr>\n      <th>2</th>\n      <td>2</td>\n      <td>B cells</td>\n      <td>ABT737</td>\n    </tr>\n    <tr>\n      <th>3</th>\n      <td>3</td>\n      <td>B cells</td>\n      <td>AMD-070 (hydrochloride)</td>\n    </tr>\n    <tr>\n      <th>4</th>\n      <td>4</td>\n      <td>B cells</td>\n      <td>AT 7867</td>\n    </tr>\n    <tr>\n      <th>...</th>\n      <td>...</td>\n      <td>...</td>\n      <td>...</td>\n    </tr>\n    <tr>\n      <th>250</th>\n      <td>250</td>\n      <td>Myeloid cells</td>\n      <td>Vandetanib</td>\n    </tr>\n    <tr>\n      <th>251</th>\n      <td>251</td>\n      <td>Myeloid cells</td>\n      <td>Vanoxerine</td>\n    </tr>\n    <tr>\n      <th>252</th>\n      <td>252</td>\n      <td>Myeloid cells</td>\n      <td>Vardenafil</td>\n    </tr>\n    <tr>\n      <th>253</th>\n      <td>253</td>\n      <td>Myeloid cells</td>\n      <td>Vorinostat</td>\n    </tr>\n    <tr>\n      <th>254</th>\n      <td>254</td>\n      <td>Myeloid cells</td>\n      <td>YK 4-279</td>\n    </tr>\n  </tbody>\n</table>\n<p>255 rows × 3 columns</p>\n</div>"
     },
     "execution_count": 13,
     "metadata": {},
     "output_type": "execute_result"
    }
   ],
   "source": [
    "id_map"
   ],
   "metadata": {
    "collapsed": false,
    "ExecuteTime": {
     "end_time": "2023-10-09T09:00:23.498186900Z",
     "start_time": "2023-10-09T09:00:23.264331400Z"
    }
   },
   "id": "bd18f7ca9b5d1b20"
  },
  {
   "cell_type": "code",
   "execution_count": 15,
   "outputs": [
    {
     "data": {
      "text/plain": "         A1BG  A1BG-AS1       A2M   A2M-AS1     A2MP1    A4GALT      AAAS  \\\n0    0.104720 -0.077524 -1.625596 -0.144545  0.143555  0.073229 -0.016823   \n1    0.915953 -0.884380  0.371834 -0.081677 -0.498266  0.203559  0.604656   \n2   -0.387721 -0.305378  0.567777  0.303895 -0.022653 -0.480681  0.467144   \n3    0.232893  0.129029  0.336897  0.486946  0.767661  0.718590 -0.162145   \n4    4.290652 -0.063864 -0.017443 -0.541154  0.570982  2.022829  0.600011   \n..        ...       ...       ...       ...       ...       ...       ...   \n609 -0.014372 -0.122464 -0.456366 -0.147894 -0.545382 -0.544709  0.282458   \n610 -0.455549  0.188181  0.595734 -0.100299  0.786192  0.090954  0.169523   \n611  0.338168 -0.109079  0.270182 -0.436586 -0.069476 -0.061539  0.002818   \n612  0.101138 -0.409724 -0.606292 -0.071300 -0.001789 -0.706087 -0.620919   \n613 -0.757116  0.085910 -0.730025 -1.367801 -0.695944 -0.724985  0.121436   \n\n         AACS     AAGAB      AAK1  ...      ZUP1      ZW10    ZWILCH  \\\n0    0.101717 -0.005153  1.043629  ... -0.227781 -0.010752 -0.023881   \n1    0.498592 -0.317184  0.375550  ... -0.494985 -0.303419  0.304955   \n2   -0.293205 -0.005098  0.214918  ... -0.119422 -0.033608 -0.153123   \n3    0.157206 -3.654218 -0.212402  ...  0.451679  0.704643  0.015468   \n4    1.231275  0.236739  0.338703  ...  0.758474  0.510762  0.607401   \n..        ...       ...       ...  ...       ...       ...       ...   \n609 -0.431359 -0.364961  0.043123  ... -0.549987 -2.200925  0.359806   \n610  0.428297  0.106553  0.435088  ... -1.236905  0.003854 -0.197569   \n611 -0.027167 -0.383696  0.226289  ...  0.077579 -1.101637  0.457201   \n612 -1.485381  0.059303 -0.032584  ...  0.005951 -0.893093 -1.003029   \n613 -0.785661 -0.240842 -0.139620  ...  0.232343 -2.247816 -0.346036   \n\n        ZWINT      ZXDA      ZXDB      ZXDC    ZYG11B       ZYX     ZZEF1  \n0    0.674536 -0.453068  0.005164 -0.094959  0.034127  0.221377  0.368755  \n1   -0.333905 -0.315516 -0.369626 -0.095079  0.704780  1.096702 -0.869887  \n2    0.183597 -0.555678 -1.494789 -0.213550  0.415768  0.078439 -0.259365  \n3   -0.103868  0.865027  0.189114  0.224700 -0.048233  0.216139 -0.085024  \n4   -0.123059  0.214366  0.487838 -0.819775  0.112365 -0.122193  0.676629  \n..        ...       ...       ...       ...       ...       ...       ...  \n609  1.073983  0.356939 -0.029603 -0.528817  0.105138  0.491015 -0.979951  \n610 -0.175307  0.101391  1.028394  0.034144 -0.231642  1.023994 -0.064760  \n611  0.535184 -0.198404 -0.005004  0.552810 -0.209077  0.389751 -0.337082  \n612 -0.080367 -0.076604  0.024849  0.012862 -0.029684  0.005506 -1.733112  \n613 -0.919567 -1.131372 -0.120252 -0.064537 -0.603280 -0.098041 -0.750681  \n\n[614 rows x 18211 columns]",
      "text/html": "<div>\n<style scoped>\n    .dataframe tbody tr th:only-of-type {\n        vertical-align: middle;\n    }\n\n    .dataframe tbody tr th {\n        vertical-align: top;\n    }\n\n    .dataframe thead th {\n        text-align: right;\n    }\n</style>\n<table border=\"1\" class=\"dataframe\">\n  <thead>\n    <tr style=\"text-align: right;\">\n      <th></th>\n      <th>A1BG</th>\n      <th>A1BG-AS1</th>\n      <th>A2M</th>\n      <th>A2M-AS1</th>\n      <th>A2MP1</th>\n      <th>A4GALT</th>\n      <th>AAAS</th>\n      <th>AACS</th>\n      <th>AAGAB</th>\n      <th>AAK1</th>\n      <th>...</th>\n      <th>ZUP1</th>\n      <th>ZW10</th>\n      <th>ZWILCH</th>\n      <th>ZWINT</th>\n      <th>ZXDA</th>\n      <th>ZXDB</th>\n      <th>ZXDC</th>\n      <th>ZYG11B</th>\n      <th>ZYX</th>\n      <th>ZZEF1</th>\n    </tr>\n  </thead>\n  <tbody>\n    <tr>\n      <th>0</th>\n      <td>0.104720</td>\n      <td>-0.077524</td>\n      <td>-1.625596</td>\n      <td>-0.144545</td>\n      <td>0.143555</td>\n      <td>0.073229</td>\n      <td>-0.016823</td>\n      <td>0.101717</td>\n      <td>-0.005153</td>\n      <td>1.043629</td>\n      <td>...</td>\n      <td>-0.227781</td>\n      <td>-0.010752</td>\n      <td>-0.023881</td>\n      <td>0.674536</td>\n      <td>-0.453068</td>\n      <td>0.005164</td>\n      <td>-0.094959</td>\n      <td>0.034127</td>\n      <td>0.221377</td>\n      <td>0.368755</td>\n    </tr>\n    <tr>\n      <th>1</th>\n      <td>0.915953</td>\n      <td>-0.884380</td>\n      <td>0.371834</td>\n      <td>-0.081677</td>\n      <td>-0.498266</td>\n      <td>0.203559</td>\n      <td>0.604656</td>\n      <td>0.498592</td>\n      <td>-0.317184</td>\n      <td>0.375550</td>\n      <td>...</td>\n      <td>-0.494985</td>\n      <td>-0.303419</td>\n      <td>0.304955</td>\n      <td>-0.333905</td>\n      <td>-0.315516</td>\n      <td>-0.369626</td>\n      <td>-0.095079</td>\n      <td>0.704780</td>\n      <td>1.096702</td>\n      <td>-0.869887</td>\n    </tr>\n    <tr>\n      <th>2</th>\n      <td>-0.387721</td>\n      <td>-0.305378</td>\n      <td>0.567777</td>\n      <td>0.303895</td>\n      <td>-0.022653</td>\n      <td>-0.480681</td>\n      <td>0.467144</td>\n      <td>-0.293205</td>\n      <td>-0.005098</td>\n      <td>0.214918</td>\n      <td>...</td>\n      <td>-0.119422</td>\n      <td>-0.033608</td>\n      <td>-0.153123</td>\n      <td>0.183597</td>\n      <td>-0.555678</td>\n      <td>-1.494789</td>\n      <td>-0.213550</td>\n      <td>0.415768</td>\n      <td>0.078439</td>\n      <td>-0.259365</td>\n    </tr>\n    <tr>\n      <th>3</th>\n      <td>0.232893</td>\n      <td>0.129029</td>\n      <td>0.336897</td>\n      <td>0.486946</td>\n      <td>0.767661</td>\n      <td>0.718590</td>\n      <td>-0.162145</td>\n      <td>0.157206</td>\n      <td>-3.654218</td>\n      <td>-0.212402</td>\n      <td>...</td>\n      <td>0.451679</td>\n      <td>0.704643</td>\n      <td>0.015468</td>\n      <td>-0.103868</td>\n      <td>0.865027</td>\n      <td>0.189114</td>\n      <td>0.224700</td>\n      <td>-0.048233</td>\n      <td>0.216139</td>\n      <td>-0.085024</td>\n    </tr>\n    <tr>\n      <th>4</th>\n      <td>4.290652</td>\n      <td>-0.063864</td>\n      <td>-0.017443</td>\n      <td>-0.541154</td>\n      <td>0.570982</td>\n      <td>2.022829</td>\n      <td>0.600011</td>\n      <td>1.231275</td>\n      <td>0.236739</td>\n      <td>0.338703</td>\n      <td>...</td>\n      <td>0.758474</td>\n      <td>0.510762</td>\n      <td>0.607401</td>\n      <td>-0.123059</td>\n      <td>0.214366</td>\n      <td>0.487838</td>\n      <td>-0.819775</td>\n      <td>0.112365</td>\n      <td>-0.122193</td>\n      <td>0.676629</td>\n    </tr>\n    <tr>\n      <th>...</th>\n      <td>...</td>\n      <td>...</td>\n      <td>...</td>\n      <td>...</td>\n      <td>...</td>\n      <td>...</td>\n      <td>...</td>\n      <td>...</td>\n      <td>...</td>\n      <td>...</td>\n      <td>...</td>\n      <td>...</td>\n      <td>...</td>\n      <td>...</td>\n      <td>...</td>\n      <td>...</td>\n      <td>...</td>\n      <td>...</td>\n      <td>...</td>\n      <td>...</td>\n      <td>...</td>\n    </tr>\n    <tr>\n      <th>609</th>\n      <td>-0.014372</td>\n      <td>-0.122464</td>\n      <td>-0.456366</td>\n      <td>-0.147894</td>\n      <td>-0.545382</td>\n      <td>-0.544709</td>\n      <td>0.282458</td>\n      <td>-0.431359</td>\n      <td>-0.364961</td>\n      <td>0.043123</td>\n      <td>...</td>\n      <td>-0.549987</td>\n      <td>-2.200925</td>\n      <td>0.359806</td>\n      <td>1.073983</td>\n      <td>0.356939</td>\n      <td>-0.029603</td>\n      <td>-0.528817</td>\n      <td>0.105138</td>\n      <td>0.491015</td>\n      <td>-0.979951</td>\n    </tr>\n    <tr>\n      <th>610</th>\n      <td>-0.455549</td>\n      <td>0.188181</td>\n      <td>0.595734</td>\n      <td>-0.100299</td>\n      <td>0.786192</td>\n      <td>0.090954</td>\n      <td>0.169523</td>\n      <td>0.428297</td>\n      <td>0.106553</td>\n      <td>0.435088</td>\n      <td>...</td>\n      <td>-1.236905</td>\n      <td>0.003854</td>\n      <td>-0.197569</td>\n      <td>-0.175307</td>\n      <td>0.101391</td>\n      <td>1.028394</td>\n      <td>0.034144</td>\n      <td>-0.231642</td>\n      <td>1.023994</td>\n      <td>-0.064760</td>\n    </tr>\n    <tr>\n      <th>611</th>\n      <td>0.338168</td>\n      <td>-0.109079</td>\n      <td>0.270182</td>\n      <td>-0.436586</td>\n      <td>-0.069476</td>\n      <td>-0.061539</td>\n      <td>0.002818</td>\n      <td>-0.027167</td>\n      <td>-0.383696</td>\n      <td>0.226289</td>\n      <td>...</td>\n      <td>0.077579</td>\n      <td>-1.101637</td>\n      <td>0.457201</td>\n      <td>0.535184</td>\n      <td>-0.198404</td>\n      <td>-0.005004</td>\n      <td>0.552810</td>\n      <td>-0.209077</td>\n      <td>0.389751</td>\n      <td>-0.337082</td>\n    </tr>\n    <tr>\n      <th>612</th>\n      <td>0.101138</td>\n      <td>-0.409724</td>\n      <td>-0.606292</td>\n      <td>-0.071300</td>\n      <td>-0.001789</td>\n      <td>-0.706087</td>\n      <td>-0.620919</td>\n      <td>-1.485381</td>\n      <td>0.059303</td>\n      <td>-0.032584</td>\n      <td>...</td>\n      <td>0.005951</td>\n      <td>-0.893093</td>\n      <td>-1.003029</td>\n      <td>-0.080367</td>\n      <td>-0.076604</td>\n      <td>0.024849</td>\n      <td>0.012862</td>\n      <td>-0.029684</td>\n      <td>0.005506</td>\n      <td>-1.733112</td>\n    </tr>\n    <tr>\n      <th>613</th>\n      <td>-0.757116</td>\n      <td>0.085910</td>\n      <td>-0.730025</td>\n      <td>-1.367801</td>\n      <td>-0.695944</td>\n      <td>-0.724985</td>\n      <td>0.121436</td>\n      <td>-0.785661</td>\n      <td>-0.240842</td>\n      <td>-0.139620</td>\n      <td>...</td>\n      <td>0.232343</td>\n      <td>-2.247816</td>\n      <td>-0.346036</td>\n      <td>-0.919567</td>\n      <td>-1.131372</td>\n      <td>-0.120252</td>\n      <td>-0.064537</td>\n      <td>-0.603280</td>\n      <td>-0.098041</td>\n      <td>-0.750681</td>\n    </tr>\n  </tbody>\n</table>\n<p>614 rows × 18211 columns</p>\n</div>"
     },
     "execution_count": 15,
     "metadata": {},
     "output_type": "execute_result"
    }
   ],
   "source": [
    "de_train.iloc[:,5:]"
   ],
   "metadata": {
    "collapsed": false,
    "ExecuteTime": {
     "end_time": "2023-10-09T09:00:42.132978400Z",
     "start_time": "2023-10-09T09:00:42.129915900Z"
    }
   },
   "id": "722e244b5bc24e4e"
  },
  {
   "cell_type": "code",
   "execution_count": 33,
   "outputs": [
    {
     "data": {
      "text/plain": "(614, 131)"
     },
     "execution_count": 33,
     "metadata": {},
     "output_type": "execute_result"
    }
   ],
   "source": [
    "X  = pd.get_dummies(de_train[[\"cell_type\", \"sm_name\"]], columns=[\"cell_type\", \"sm_name\"])\n",
    "X_test = pd.get_dummies(id_map[[\"cell_type\", \"sm_name\"]], columns=[\"cell_type\", \"sm_name\"])\n",
    "\n",
    "X = X.drop([f for f in X if f not in X_test], axis =1) # чтобы везде колонки были одинаковы\n",
    "X.shape"
   ],
   "metadata": {
    "collapsed": false,
    "ExecuteTime": {
     "end_time": "2023-10-09T09:43:17.405452600Z",
     "start_time": "2023-10-09T09:43:17.369513700Z"
    }
   },
   "id": "fc341b8e27c72b7d"
  },
  {
   "cell_type": "code",
   "execution_count": 46,
   "outputs": [
    {
     "data": {
      "text/plain": "         A1BG  A1BG-AS1       A2M   A2M-AS1     A2MP1    A4GALT      AAAS  \\\n0    0.104720 -0.077524 -1.625596 -0.144545  0.143555  0.073229 -0.016823   \n1    0.915953 -0.884380  0.371834 -0.081677 -0.498266  0.203559  0.604656   \n2   -0.387721 -0.305378  0.567777  0.303895 -0.022653 -0.480681  0.467144   \n3    0.232893  0.129029  0.336897  0.486946  0.767661  0.718590 -0.162145   \n4    4.290652 -0.063864 -0.017443 -0.541154  0.570982  2.022829  0.600011   \n..        ...       ...       ...       ...       ...       ...       ...   \n609 -0.014372 -0.122464 -0.456366 -0.147894 -0.545382 -0.544709  0.282458   \n610 -0.455549  0.188181  0.595734 -0.100299  0.786192  0.090954  0.169523   \n611  0.338168 -0.109079  0.270182 -0.436586 -0.069476 -0.061539  0.002818   \n612  0.101138 -0.409724 -0.606292 -0.071300 -0.001789 -0.706087 -0.620919   \n613 -0.757116  0.085910 -0.730025 -1.367801 -0.695944 -0.724985  0.121436   \n\n         AACS     AAGAB      AAK1  ...      ZUP1      ZW10    ZWILCH  \\\n0    0.101717 -0.005153  1.043629  ... -0.227781 -0.010752 -0.023881   \n1    0.498592 -0.317184  0.375550  ... -0.494985 -0.303419  0.304955   \n2   -0.293205 -0.005098  0.214918  ... -0.119422 -0.033608 -0.153123   \n3    0.157206 -3.654218 -0.212402  ...  0.451679  0.704643  0.015468   \n4    1.231275  0.236739  0.338703  ...  0.758474  0.510762  0.607401   \n..        ...       ...       ...  ...       ...       ...       ...   \n609 -0.431359 -0.364961  0.043123  ... -0.549987 -2.200925  0.359806   \n610  0.428297  0.106553  0.435088  ... -1.236905  0.003854 -0.197569   \n611 -0.027167 -0.383696  0.226289  ...  0.077579 -1.101637  0.457201   \n612 -1.485381  0.059303 -0.032584  ...  0.005951 -0.893093 -1.003029   \n613 -0.785661 -0.240842 -0.139620  ...  0.232343 -2.247816 -0.346036   \n\n        ZWINT      ZXDA      ZXDB      ZXDC    ZYG11B       ZYX     ZZEF1  \n0    0.674536 -0.453068  0.005164 -0.094959  0.034127  0.221377  0.368755  \n1   -0.333905 -0.315516 -0.369626 -0.095079  0.704780  1.096702 -0.869887  \n2    0.183597 -0.555678 -1.494789 -0.213550  0.415768  0.078439 -0.259365  \n3   -0.103868  0.865027  0.189114  0.224700 -0.048233  0.216139 -0.085024  \n4   -0.123059  0.214366  0.487838 -0.819775  0.112365 -0.122193  0.676629  \n..        ...       ...       ...       ...       ...       ...       ...  \n609  1.073983  0.356939 -0.029603 -0.528817  0.105138  0.491015 -0.979951  \n610 -0.175307  0.101391  1.028394  0.034144 -0.231642  1.023994 -0.064760  \n611  0.535184 -0.198404 -0.005004  0.552810 -0.209077  0.389751 -0.337082  \n612 -0.080367 -0.076604  0.024849  0.012862 -0.029684  0.005506 -1.733112  \n613 -0.919567 -1.131372 -0.120252 -0.064537 -0.603280 -0.098041 -0.750681  \n\n[614 rows x 18211 columns]",
      "text/html": "<div>\n<style scoped>\n    .dataframe tbody tr th:only-of-type {\n        vertical-align: middle;\n    }\n\n    .dataframe tbody tr th {\n        vertical-align: top;\n    }\n\n    .dataframe thead th {\n        text-align: right;\n    }\n</style>\n<table border=\"1\" class=\"dataframe\">\n  <thead>\n    <tr style=\"text-align: right;\">\n      <th></th>\n      <th>A1BG</th>\n      <th>A1BG-AS1</th>\n      <th>A2M</th>\n      <th>A2M-AS1</th>\n      <th>A2MP1</th>\n      <th>A4GALT</th>\n      <th>AAAS</th>\n      <th>AACS</th>\n      <th>AAGAB</th>\n      <th>AAK1</th>\n      <th>...</th>\n      <th>ZUP1</th>\n      <th>ZW10</th>\n      <th>ZWILCH</th>\n      <th>ZWINT</th>\n      <th>ZXDA</th>\n      <th>ZXDB</th>\n      <th>ZXDC</th>\n      <th>ZYG11B</th>\n      <th>ZYX</th>\n      <th>ZZEF1</th>\n    </tr>\n  </thead>\n  <tbody>\n    <tr>\n      <th>0</th>\n      <td>0.104720</td>\n      <td>-0.077524</td>\n      <td>-1.625596</td>\n      <td>-0.144545</td>\n      <td>0.143555</td>\n      <td>0.073229</td>\n      <td>-0.016823</td>\n      <td>0.101717</td>\n      <td>-0.005153</td>\n      <td>1.043629</td>\n      <td>...</td>\n      <td>-0.227781</td>\n      <td>-0.010752</td>\n      <td>-0.023881</td>\n      <td>0.674536</td>\n      <td>-0.453068</td>\n      <td>0.005164</td>\n      <td>-0.094959</td>\n      <td>0.034127</td>\n      <td>0.221377</td>\n      <td>0.368755</td>\n    </tr>\n    <tr>\n      <th>1</th>\n      <td>0.915953</td>\n      <td>-0.884380</td>\n      <td>0.371834</td>\n      <td>-0.081677</td>\n      <td>-0.498266</td>\n      <td>0.203559</td>\n      <td>0.604656</td>\n      <td>0.498592</td>\n      <td>-0.317184</td>\n      <td>0.375550</td>\n      <td>...</td>\n      <td>-0.494985</td>\n      <td>-0.303419</td>\n      <td>0.304955</td>\n      <td>-0.333905</td>\n      <td>-0.315516</td>\n      <td>-0.369626</td>\n      <td>-0.095079</td>\n      <td>0.704780</td>\n      <td>1.096702</td>\n      <td>-0.869887</td>\n    </tr>\n    <tr>\n      <th>2</th>\n      <td>-0.387721</td>\n      <td>-0.305378</td>\n      <td>0.567777</td>\n      <td>0.303895</td>\n      <td>-0.022653</td>\n      <td>-0.480681</td>\n      <td>0.467144</td>\n      <td>-0.293205</td>\n      <td>-0.005098</td>\n      <td>0.214918</td>\n      <td>...</td>\n      <td>-0.119422</td>\n      <td>-0.033608</td>\n      <td>-0.153123</td>\n      <td>0.183597</td>\n      <td>-0.555678</td>\n      <td>-1.494789</td>\n      <td>-0.213550</td>\n      <td>0.415768</td>\n      <td>0.078439</td>\n      <td>-0.259365</td>\n    </tr>\n    <tr>\n      <th>3</th>\n      <td>0.232893</td>\n      <td>0.129029</td>\n      <td>0.336897</td>\n      <td>0.486946</td>\n      <td>0.767661</td>\n      <td>0.718590</td>\n      <td>-0.162145</td>\n      <td>0.157206</td>\n      <td>-3.654218</td>\n      <td>-0.212402</td>\n      <td>...</td>\n      <td>0.451679</td>\n      <td>0.704643</td>\n      <td>0.015468</td>\n      <td>-0.103868</td>\n      <td>0.865027</td>\n      <td>0.189114</td>\n      <td>0.224700</td>\n      <td>-0.048233</td>\n      <td>0.216139</td>\n      <td>-0.085024</td>\n    </tr>\n    <tr>\n      <th>4</th>\n      <td>4.290652</td>\n      <td>-0.063864</td>\n      <td>-0.017443</td>\n      <td>-0.541154</td>\n      <td>0.570982</td>\n      <td>2.022829</td>\n      <td>0.600011</td>\n      <td>1.231275</td>\n      <td>0.236739</td>\n      <td>0.338703</td>\n      <td>...</td>\n      <td>0.758474</td>\n      <td>0.510762</td>\n      <td>0.607401</td>\n      <td>-0.123059</td>\n      <td>0.214366</td>\n      <td>0.487838</td>\n      <td>-0.819775</td>\n      <td>0.112365</td>\n      <td>-0.122193</td>\n      <td>0.676629</td>\n    </tr>\n    <tr>\n      <th>...</th>\n      <td>...</td>\n      <td>...</td>\n      <td>...</td>\n      <td>...</td>\n      <td>...</td>\n      <td>...</td>\n      <td>...</td>\n      <td>...</td>\n      <td>...</td>\n      <td>...</td>\n      <td>...</td>\n      <td>...</td>\n      <td>...</td>\n      <td>...</td>\n      <td>...</td>\n      <td>...</td>\n      <td>...</td>\n      <td>...</td>\n      <td>...</td>\n      <td>...</td>\n      <td>...</td>\n    </tr>\n    <tr>\n      <th>609</th>\n      <td>-0.014372</td>\n      <td>-0.122464</td>\n      <td>-0.456366</td>\n      <td>-0.147894</td>\n      <td>-0.545382</td>\n      <td>-0.544709</td>\n      <td>0.282458</td>\n      <td>-0.431359</td>\n      <td>-0.364961</td>\n      <td>0.043123</td>\n      <td>...</td>\n      <td>-0.549987</td>\n      <td>-2.200925</td>\n      <td>0.359806</td>\n      <td>1.073983</td>\n      <td>0.356939</td>\n      <td>-0.029603</td>\n      <td>-0.528817</td>\n      <td>0.105138</td>\n      <td>0.491015</td>\n      <td>-0.979951</td>\n    </tr>\n    <tr>\n      <th>610</th>\n      <td>-0.455549</td>\n      <td>0.188181</td>\n      <td>0.595734</td>\n      <td>-0.100299</td>\n      <td>0.786192</td>\n      <td>0.090954</td>\n      <td>0.169523</td>\n      <td>0.428297</td>\n      <td>0.106553</td>\n      <td>0.435088</td>\n      <td>...</td>\n      <td>-1.236905</td>\n      <td>0.003854</td>\n      <td>-0.197569</td>\n      <td>-0.175307</td>\n      <td>0.101391</td>\n      <td>1.028394</td>\n      <td>0.034144</td>\n      <td>-0.231642</td>\n      <td>1.023994</td>\n      <td>-0.064760</td>\n    </tr>\n    <tr>\n      <th>611</th>\n      <td>0.338168</td>\n      <td>-0.109079</td>\n      <td>0.270182</td>\n      <td>-0.436586</td>\n      <td>-0.069476</td>\n      <td>-0.061539</td>\n      <td>0.002818</td>\n      <td>-0.027167</td>\n      <td>-0.383696</td>\n      <td>0.226289</td>\n      <td>...</td>\n      <td>0.077579</td>\n      <td>-1.101637</td>\n      <td>0.457201</td>\n      <td>0.535184</td>\n      <td>-0.198404</td>\n      <td>-0.005004</td>\n      <td>0.552810</td>\n      <td>-0.209077</td>\n      <td>0.389751</td>\n      <td>-0.337082</td>\n    </tr>\n    <tr>\n      <th>612</th>\n      <td>0.101138</td>\n      <td>-0.409724</td>\n      <td>-0.606292</td>\n      <td>-0.071300</td>\n      <td>-0.001789</td>\n      <td>-0.706087</td>\n      <td>-0.620919</td>\n      <td>-1.485381</td>\n      <td>0.059303</td>\n      <td>-0.032584</td>\n      <td>...</td>\n      <td>0.005951</td>\n      <td>-0.893093</td>\n      <td>-1.003029</td>\n      <td>-0.080367</td>\n      <td>-0.076604</td>\n      <td>0.024849</td>\n      <td>0.012862</td>\n      <td>-0.029684</td>\n      <td>0.005506</td>\n      <td>-1.733112</td>\n    </tr>\n    <tr>\n      <th>613</th>\n      <td>-0.757116</td>\n      <td>0.085910</td>\n      <td>-0.730025</td>\n      <td>-1.367801</td>\n      <td>-0.695944</td>\n      <td>-0.724985</td>\n      <td>0.121436</td>\n      <td>-0.785661</td>\n      <td>-0.240842</td>\n      <td>-0.139620</td>\n      <td>...</td>\n      <td>0.232343</td>\n      <td>-2.247816</td>\n      <td>-0.346036</td>\n      <td>-0.919567</td>\n      <td>-1.131372</td>\n      <td>-0.120252</td>\n      <td>-0.064537</td>\n      <td>-0.603280</td>\n      <td>-0.098041</td>\n      <td>-0.750681</td>\n    </tr>\n  </tbody>\n</table>\n<p>614 rows × 18211 columns</p>\n</div>"
     },
     "execution_count": 46,
     "metadata": {},
     "output_type": "execute_result"
    }
   ],
   "source": [
    "from xgboost import XGBRegressor\n",
    "from lightgbm import LGBMRegressor\n",
    "from sklearn.multioutput import MultiOutputRegressor\n",
    "from sklearn.linear_model import LinearRegression\n",
    "from sklearn.svm import LinearSVR\n",
    "from sklearn.model_selection import cross_val_score, GridSearchCV, train_test_split\n",
    "from sklearn.metrics import r2_score\n",
    "\n",
    "\n",
    "y = de_train.drop( ['cell_type','sm_name','sm_lincs_id','SMILES','control'], axis = 1)\n",
    "y\n",
    "\n"
   ],
   "metadata": {
    "collapsed": false,
    "ExecuteTime": {
     "end_time": "2023-10-09T10:12:41.191851300Z",
     "start_time": "2023-10-09T10:12:39.604334900Z"
    }
   },
   "id": "4cd10bef072eb2b5"
  },
  {
   "cell_type": "code",
   "execution_count": 47,
   "outputs": [
    {
     "data": {
      "text/plain": "MultiOutputRegressor(estimator=LinearSVR(epsilon=0.1))"
     },
     "execution_count": 47,
     "metadata": {},
     "output_type": "execute_result"
    }
   ],
   "source": [
    "model = MultiOutputRegressor(\n",
    "    estimator = LinearSVR(max_iter= 1000, epsilon= 0.1)\n",
    ")\n",
    "model.fit(X, y)"
   ],
   "metadata": {
    "collapsed": false,
    "ExecuteTime": {
     "end_time": "2023-10-09T10:14:12.948643400Z",
     "start_time": "2023-10-09T10:12:41.170484600Z"
    }
   },
   "id": "38850a1d26f35c59"
  },
  {
   "cell_type": "code",
   "execution_count": 48,
   "outputs": [],
   "source": [
    "y_pred = model.predict(X_test)\n"
   ],
   "metadata": {
    "collapsed": false,
    "ExecuteTime": {
     "end_time": "2023-10-09T10:14:56.144804600Z",
     "start_time": "2023-10-09T10:14:12.954187100Z"
    }
   },
   "id": "10b9a8fdb5095ebd"
  },
  {
   "cell_type": "code",
   "execution_count": 55,
   "outputs": [
    {
     "data": {
      "text/plain": "         A1BG  A1BG-AS1       A2M   A2M-AS1     A2MP1    A4GALT      AAAS  \\\nid                                                                          \n0    0.355189  0.220469  0.088446  0.544013  0.553126  0.249853 -0.011560   \n1    0.185722  0.014152  0.078208  0.250060  0.549358  0.234991 -0.011560   \n2    0.417098  0.220469  0.013850  0.314780  0.733105  0.847751  0.183300   \n3    0.094097  0.174741  0.058587  0.364719  0.445544  0.221968 -0.245106   \n4    0.414870 -0.030957  0.144085  0.364719  0.477374  0.243302 -0.323718   \n..        ...       ...       ...       ...       ...       ...       ...   \n250  0.407330 -0.093537 -0.160269 -0.390564  1.245345  0.242089  0.186852   \n251  0.530511 -0.378273  0.135925  0.131040  1.591201  0.820110 -0.030905   \n252  0.452210  0.574761 -0.080612  0.009547  1.378137  0.396256  0.078540   \n253  0.148125 -0.114624  0.119461  0.105054  1.031677  0.755604  0.432216   \n254  0.144244  0.042677  0.100827 -0.258393  1.463522  0.715142  0.393604   \n\n         AACS     AAGAB      AAK1  ...      ZUP1      ZW10    ZWILCH  \\\nid                                 ...                                 \n0    0.260391  0.091142  0.215530  ... -0.603900 -0.258775 -0.210734   \n1    0.147287  0.724308  0.135988  ...  0.073854  0.069064 -0.094287   \n2    0.253705  0.154690  0.238303  ... -0.107717 -0.121787 -0.044427   \n3    0.260391  0.348565  0.349800  ... -0.150880  0.037996  0.062875   \n4    0.260391  0.293310  0.366617  ... -0.647122 -0.042693 -0.054920   \n..        ...       ...       ...  ...       ...       ...       ...   \n250  0.137276  0.356397  0.733185  ...  0.097091 -0.010932 -0.235728   \n251 -0.044211  0.165144  0.324692  ...  0.030805 -0.010932  0.156236   \n252 -0.403259  0.460308  0.580828  ...  0.087118 -0.095732  0.856929   \n253  0.466481  1.165594  0.936327  ...  0.133203 -0.010932  0.077157   \n254  0.146926  0.393525 -0.141356  ...  0.187199  0.034658 -0.285468   \n\n        ZWINT      ZXDA      ZXDB      ZXDC    ZYG11B       ZYX     ZZEF1  \nid                                                                         \n0    0.848886  0.376037  0.371943  0.250302  0.572740 -0.349686  0.618835  \n1    0.131207  0.274178 -0.139858  0.048281 -0.039772 -0.331083  0.040287  \n2    0.620088  0.175750  0.153427  0.199606  0.065535 -0.243128 -0.066197  \n3    0.347832  0.089398  0.153427  0.179235  0.222085 -0.207473  0.224725  \n4    0.123561  0.114638  0.238210 -0.047380  0.512520 -0.163860  0.054209  \n..        ...       ...       ...       ...       ...       ...       ...  \n250 -0.043733  0.312129 -0.002624 -0.082250 -0.153025 -0.408372  0.040547  \n251  0.074423  0.505206 -0.059609 -0.307180 -0.056433 -0.455711 -0.142204  \n252  0.077832  0.505206 -0.396341 -0.045857 -0.153025 -0.000431 -0.394028  \n253 -0.106241  0.104198  0.048701 -0.351337  0.116828 -0.336613  0.254230  \n254  0.050393  0.284080  0.048701 -0.222677 -0.153025 -0.773508 -0.094492  \n\n[255 rows x 18211 columns]",
      "text/html": "<div>\n<style scoped>\n    .dataframe tbody tr th:only-of-type {\n        vertical-align: middle;\n    }\n\n    .dataframe tbody tr th {\n        vertical-align: top;\n    }\n\n    .dataframe thead th {\n        text-align: right;\n    }\n</style>\n<table border=\"1\" class=\"dataframe\">\n  <thead>\n    <tr style=\"text-align: right;\">\n      <th></th>\n      <th>A1BG</th>\n      <th>A1BG-AS1</th>\n      <th>A2M</th>\n      <th>A2M-AS1</th>\n      <th>A2MP1</th>\n      <th>A4GALT</th>\n      <th>AAAS</th>\n      <th>AACS</th>\n      <th>AAGAB</th>\n      <th>AAK1</th>\n      <th>...</th>\n      <th>ZUP1</th>\n      <th>ZW10</th>\n      <th>ZWILCH</th>\n      <th>ZWINT</th>\n      <th>ZXDA</th>\n      <th>ZXDB</th>\n      <th>ZXDC</th>\n      <th>ZYG11B</th>\n      <th>ZYX</th>\n      <th>ZZEF1</th>\n    </tr>\n    <tr>\n      <th>id</th>\n      <th></th>\n      <th></th>\n      <th></th>\n      <th></th>\n      <th></th>\n      <th></th>\n      <th></th>\n      <th></th>\n      <th></th>\n      <th></th>\n      <th></th>\n      <th></th>\n      <th></th>\n      <th></th>\n      <th></th>\n      <th></th>\n      <th></th>\n      <th></th>\n      <th></th>\n      <th></th>\n      <th></th>\n    </tr>\n  </thead>\n  <tbody>\n    <tr>\n      <th>0</th>\n      <td>0.355189</td>\n      <td>0.220469</td>\n      <td>0.088446</td>\n      <td>0.544013</td>\n      <td>0.553126</td>\n      <td>0.249853</td>\n      <td>-0.011560</td>\n      <td>0.260391</td>\n      <td>0.091142</td>\n      <td>0.215530</td>\n      <td>...</td>\n      <td>-0.603900</td>\n      <td>-0.258775</td>\n      <td>-0.210734</td>\n      <td>0.848886</td>\n      <td>0.376037</td>\n      <td>0.371943</td>\n      <td>0.250302</td>\n      <td>0.572740</td>\n      <td>-0.349686</td>\n      <td>0.618835</td>\n    </tr>\n    <tr>\n      <th>1</th>\n      <td>0.185722</td>\n      <td>0.014152</td>\n      <td>0.078208</td>\n      <td>0.250060</td>\n      <td>0.549358</td>\n      <td>0.234991</td>\n      <td>-0.011560</td>\n      <td>0.147287</td>\n      <td>0.724308</td>\n      <td>0.135988</td>\n      <td>...</td>\n      <td>0.073854</td>\n      <td>0.069064</td>\n      <td>-0.094287</td>\n      <td>0.131207</td>\n      <td>0.274178</td>\n      <td>-0.139858</td>\n      <td>0.048281</td>\n      <td>-0.039772</td>\n      <td>-0.331083</td>\n      <td>0.040287</td>\n    </tr>\n    <tr>\n      <th>2</th>\n      <td>0.417098</td>\n      <td>0.220469</td>\n      <td>0.013850</td>\n      <td>0.314780</td>\n      <td>0.733105</td>\n      <td>0.847751</td>\n      <td>0.183300</td>\n      <td>0.253705</td>\n      <td>0.154690</td>\n      <td>0.238303</td>\n      <td>...</td>\n      <td>-0.107717</td>\n      <td>-0.121787</td>\n      <td>-0.044427</td>\n      <td>0.620088</td>\n      <td>0.175750</td>\n      <td>0.153427</td>\n      <td>0.199606</td>\n      <td>0.065535</td>\n      <td>-0.243128</td>\n      <td>-0.066197</td>\n    </tr>\n    <tr>\n      <th>3</th>\n      <td>0.094097</td>\n      <td>0.174741</td>\n      <td>0.058587</td>\n      <td>0.364719</td>\n      <td>0.445544</td>\n      <td>0.221968</td>\n      <td>-0.245106</td>\n      <td>0.260391</td>\n      <td>0.348565</td>\n      <td>0.349800</td>\n      <td>...</td>\n      <td>-0.150880</td>\n      <td>0.037996</td>\n      <td>0.062875</td>\n      <td>0.347832</td>\n      <td>0.089398</td>\n      <td>0.153427</td>\n      <td>0.179235</td>\n      <td>0.222085</td>\n      <td>-0.207473</td>\n      <td>0.224725</td>\n    </tr>\n    <tr>\n      <th>4</th>\n      <td>0.414870</td>\n      <td>-0.030957</td>\n      <td>0.144085</td>\n      <td>0.364719</td>\n      <td>0.477374</td>\n      <td>0.243302</td>\n      <td>-0.323718</td>\n      <td>0.260391</td>\n      <td>0.293310</td>\n      <td>0.366617</td>\n      <td>...</td>\n      <td>-0.647122</td>\n      <td>-0.042693</td>\n      <td>-0.054920</td>\n      <td>0.123561</td>\n      <td>0.114638</td>\n      <td>0.238210</td>\n      <td>-0.047380</td>\n      <td>0.512520</td>\n      <td>-0.163860</td>\n      <td>0.054209</td>\n    </tr>\n    <tr>\n      <th>...</th>\n      <td>...</td>\n      <td>...</td>\n      <td>...</td>\n      <td>...</td>\n      <td>...</td>\n      <td>...</td>\n      <td>...</td>\n      <td>...</td>\n      <td>...</td>\n      <td>...</td>\n      <td>...</td>\n      <td>...</td>\n      <td>...</td>\n      <td>...</td>\n      <td>...</td>\n      <td>...</td>\n      <td>...</td>\n      <td>...</td>\n      <td>...</td>\n      <td>...</td>\n      <td>...</td>\n    </tr>\n    <tr>\n      <th>250</th>\n      <td>0.407330</td>\n      <td>-0.093537</td>\n      <td>-0.160269</td>\n      <td>-0.390564</td>\n      <td>1.245345</td>\n      <td>0.242089</td>\n      <td>0.186852</td>\n      <td>0.137276</td>\n      <td>0.356397</td>\n      <td>0.733185</td>\n      <td>...</td>\n      <td>0.097091</td>\n      <td>-0.010932</td>\n      <td>-0.235728</td>\n      <td>-0.043733</td>\n      <td>0.312129</td>\n      <td>-0.002624</td>\n      <td>-0.082250</td>\n      <td>-0.153025</td>\n      <td>-0.408372</td>\n      <td>0.040547</td>\n    </tr>\n    <tr>\n      <th>251</th>\n      <td>0.530511</td>\n      <td>-0.378273</td>\n      <td>0.135925</td>\n      <td>0.131040</td>\n      <td>1.591201</td>\n      <td>0.820110</td>\n      <td>-0.030905</td>\n      <td>-0.044211</td>\n      <td>0.165144</td>\n      <td>0.324692</td>\n      <td>...</td>\n      <td>0.030805</td>\n      <td>-0.010932</td>\n      <td>0.156236</td>\n      <td>0.074423</td>\n      <td>0.505206</td>\n      <td>-0.059609</td>\n      <td>-0.307180</td>\n      <td>-0.056433</td>\n      <td>-0.455711</td>\n      <td>-0.142204</td>\n    </tr>\n    <tr>\n      <th>252</th>\n      <td>0.452210</td>\n      <td>0.574761</td>\n      <td>-0.080612</td>\n      <td>0.009547</td>\n      <td>1.378137</td>\n      <td>0.396256</td>\n      <td>0.078540</td>\n      <td>-0.403259</td>\n      <td>0.460308</td>\n      <td>0.580828</td>\n      <td>...</td>\n      <td>0.087118</td>\n      <td>-0.095732</td>\n      <td>0.856929</td>\n      <td>0.077832</td>\n      <td>0.505206</td>\n      <td>-0.396341</td>\n      <td>-0.045857</td>\n      <td>-0.153025</td>\n      <td>-0.000431</td>\n      <td>-0.394028</td>\n    </tr>\n    <tr>\n      <th>253</th>\n      <td>0.148125</td>\n      <td>-0.114624</td>\n      <td>0.119461</td>\n      <td>0.105054</td>\n      <td>1.031677</td>\n      <td>0.755604</td>\n      <td>0.432216</td>\n      <td>0.466481</td>\n      <td>1.165594</td>\n      <td>0.936327</td>\n      <td>...</td>\n      <td>0.133203</td>\n      <td>-0.010932</td>\n      <td>0.077157</td>\n      <td>-0.106241</td>\n      <td>0.104198</td>\n      <td>0.048701</td>\n      <td>-0.351337</td>\n      <td>0.116828</td>\n      <td>-0.336613</td>\n      <td>0.254230</td>\n    </tr>\n    <tr>\n      <th>254</th>\n      <td>0.144244</td>\n      <td>0.042677</td>\n      <td>0.100827</td>\n      <td>-0.258393</td>\n      <td>1.463522</td>\n      <td>0.715142</td>\n      <td>0.393604</td>\n      <td>0.146926</td>\n      <td>0.393525</td>\n      <td>-0.141356</td>\n      <td>...</td>\n      <td>0.187199</td>\n      <td>0.034658</td>\n      <td>-0.285468</td>\n      <td>0.050393</td>\n      <td>0.284080</td>\n      <td>0.048701</td>\n      <td>-0.222677</td>\n      <td>-0.153025</td>\n      <td>-0.773508</td>\n      <td>-0.094492</td>\n    </tr>\n  </tbody>\n</table>\n<p>255 rows × 18211 columns</p>\n</div>"
     },
     "execution_count": 55,
     "metadata": {},
     "output_type": "execute_result"
    }
   ],
   "source": [
    "y_pred = pd.DataFrame(y_pred, columns=y.columns)\n",
    "y_pred.index.name = 'id'\n",
    "y_pred"
   ],
   "metadata": {
    "collapsed": false,
    "ExecuteTime": {
     "end_time": "2023-10-09T10:21:43.135981100Z",
     "start_time": "2023-10-09T10:21:43.071673400Z"
    }
   },
   "id": "d44054f717b216a7"
  },
  {
   "cell_type": "code",
   "execution_count": 56,
   "outputs": [],
   "source": [
    "y_pred.to_csv(\"submission.csv\")"
   ],
   "metadata": {
    "collapsed": false,
    "ExecuteTime": {
     "end_time": "2023-10-09T10:22:05.509797Z",
     "start_time": "2023-10-09T10:21:54.634801500Z"
    }
   },
   "id": "19c37b25d218394d"
  },
  {
   "cell_type": "code",
   "execution_count": 57,
   "outputs": [
    {
     "data": {
      "text/plain": "         A1BG  A1BG-AS1       A2M   A2M-AS1     A2MP1    A4GALT      AAAS  \\\nid                                                                          \n0    0.355189  0.220469  0.088446  0.544013  0.553126  0.249853 -0.011560   \n1    0.185722  0.014152  0.078208  0.250060  0.549358  0.234991 -0.011560   \n2    0.417098  0.220469  0.013850  0.314780  0.733105  0.847751  0.183300   \n3    0.094097  0.174741  0.058587  0.364719  0.445544  0.221968 -0.245106   \n4    0.414870 -0.030957  0.144085  0.364719  0.477374  0.243302 -0.323718   \n..        ...       ...       ...       ...       ...       ...       ...   \n250  0.407330 -0.093537 -0.160269 -0.390564  1.245345  0.242089  0.186852   \n251  0.530511 -0.378273  0.135925  0.131040  1.591201  0.820110 -0.030905   \n252  0.452210  0.574761 -0.080612  0.009547  1.378137  0.396256  0.078540   \n253  0.148125 -0.114624  0.119461  0.105054  1.031677  0.755604  0.432216   \n254  0.144244  0.042677  0.100827 -0.258393  1.463522  0.715142  0.393604   \n\n         AACS     AAGAB      AAK1  ...      ZUP1      ZW10    ZWILCH  \\\nid                                 ...                                 \n0    0.260391  0.091142  0.215530  ... -0.603900 -0.258775 -0.210734   \n1    0.147287  0.724308  0.135988  ...  0.073854  0.069064 -0.094287   \n2    0.253705  0.154690  0.238303  ... -0.107717 -0.121787 -0.044427   \n3    0.260391  0.348565  0.349800  ... -0.150880  0.037996  0.062875   \n4    0.260391  0.293310  0.366617  ... -0.647122 -0.042693 -0.054920   \n..        ...       ...       ...  ...       ...       ...       ...   \n250  0.137276  0.356397  0.733185  ...  0.097091 -0.010932 -0.235728   \n251 -0.044211  0.165144  0.324692  ...  0.030805 -0.010932  0.156236   \n252 -0.403259  0.460308  0.580828  ...  0.087118 -0.095732  0.856929   \n253  0.466481  1.165594  0.936327  ...  0.133203 -0.010932  0.077157   \n254  0.146926  0.393525 -0.141356  ...  0.187199  0.034658 -0.285468   \n\n        ZWINT      ZXDA      ZXDB      ZXDC    ZYG11B       ZYX     ZZEF1  \nid                                                                         \n0    0.848886  0.376037  0.371943  0.250302  0.572740 -0.349686  0.618835  \n1    0.131207  0.274178 -0.139858  0.048281 -0.039772 -0.331083  0.040287  \n2    0.620088  0.175750  0.153427  0.199606  0.065535 -0.243128 -0.066197  \n3    0.347832  0.089398  0.153427  0.179235  0.222085 -0.207473  0.224725  \n4    0.123561  0.114638  0.238210 -0.047380  0.512520 -0.163860  0.054209  \n..        ...       ...       ...       ...       ...       ...       ...  \n250 -0.043733  0.312129 -0.002624 -0.082250 -0.153025 -0.408372  0.040547  \n251  0.074423  0.505206 -0.059609 -0.307180 -0.056433 -0.455711 -0.142204  \n252  0.077832  0.505206 -0.396341 -0.045857 -0.153025 -0.000431 -0.394028  \n253 -0.106241  0.104198  0.048701 -0.351337  0.116828 -0.336613  0.254230  \n254  0.050393  0.284080  0.048701 -0.222677 -0.153025 -0.773508 -0.094492  \n\n[255 rows x 18211 columns]",
      "text/html": "<div>\n<style scoped>\n    .dataframe tbody tr th:only-of-type {\n        vertical-align: middle;\n    }\n\n    .dataframe tbody tr th {\n        vertical-align: top;\n    }\n\n    .dataframe thead th {\n        text-align: right;\n    }\n</style>\n<table border=\"1\" class=\"dataframe\">\n  <thead>\n    <tr style=\"text-align: right;\">\n      <th></th>\n      <th>A1BG</th>\n      <th>A1BG-AS1</th>\n      <th>A2M</th>\n      <th>A2M-AS1</th>\n      <th>A2MP1</th>\n      <th>A4GALT</th>\n      <th>AAAS</th>\n      <th>AACS</th>\n      <th>AAGAB</th>\n      <th>AAK1</th>\n      <th>...</th>\n      <th>ZUP1</th>\n      <th>ZW10</th>\n      <th>ZWILCH</th>\n      <th>ZWINT</th>\n      <th>ZXDA</th>\n      <th>ZXDB</th>\n      <th>ZXDC</th>\n      <th>ZYG11B</th>\n      <th>ZYX</th>\n      <th>ZZEF1</th>\n    </tr>\n    <tr>\n      <th>id</th>\n      <th></th>\n      <th></th>\n      <th></th>\n      <th></th>\n      <th></th>\n      <th></th>\n      <th></th>\n      <th></th>\n      <th></th>\n      <th></th>\n      <th></th>\n      <th></th>\n      <th></th>\n      <th></th>\n      <th></th>\n      <th></th>\n      <th></th>\n      <th></th>\n      <th></th>\n      <th></th>\n      <th></th>\n    </tr>\n  </thead>\n  <tbody>\n    <tr>\n      <th>0</th>\n      <td>0.355189</td>\n      <td>0.220469</td>\n      <td>0.088446</td>\n      <td>0.544013</td>\n      <td>0.553126</td>\n      <td>0.249853</td>\n      <td>-0.011560</td>\n      <td>0.260391</td>\n      <td>0.091142</td>\n      <td>0.215530</td>\n      <td>...</td>\n      <td>-0.603900</td>\n      <td>-0.258775</td>\n      <td>-0.210734</td>\n      <td>0.848886</td>\n      <td>0.376037</td>\n      <td>0.371943</td>\n      <td>0.250302</td>\n      <td>0.572740</td>\n      <td>-0.349686</td>\n      <td>0.618835</td>\n    </tr>\n    <tr>\n      <th>1</th>\n      <td>0.185722</td>\n      <td>0.014152</td>\n      <td>0.078208</td>\n      <td>0.250060</td>\n      <td>0.549358</td>\n      <td>0.234991</td>\n      <td>-0.011560</td>\n      <td>0.147287</td>\n      <td>0.724308</td>\n      <td>0.135988</td>\n      <td>...</td>\n      <td>0.073854</td>\n      <td>0.069064</td>\n      <td>-0.094287</td>\n      <td>0.131207</td>\n      <td>0.274178</td>\n      <td>-0.139858</td>\n      <td>0.048281</td>\n      <td>-0.039772</td>\n      <td>-0.331083</td>\n      <td>0.040287</td>\n    </tr>\n    <tr>\n      <th>2</th>\n      <td>0.417098</td>\n      <td>0.220469</td>\n      <td>0.013850</td>\n      <td>0.314780</td>\n      <td>0.733105</td>\n      <td>0.847751</td>\n      <td>0.183300</td>\n      <td>0.253705</td>\n      <td>0.154690</td>\n      <td>0.238303</td>\n      <td>...</td>\n      <td>-0.107717</td>\n      <td>-0.121787</td>\n      <td>-0.044427</td>\n      <td>0.620088</td>\n      <td>0.175750</td>\n      <td>0.153427</td>\n      <td>0.199606</td>\n      <td>0.065535</td>\n      <td>-0.243128</td>\n      <td>-0.066197</td>\n    </tr>\n    <tr>\n      <th>3</th>\n      <td>0.094097</td>\n      <td>0.174741</td>\n      <td>0.058587</td>\n      <td>0.364719</td>\n      <td>0.445544</td>\n      <td>0.221968</td>\n      <td>-0.245106</td>\n      <td>0.260391</td>\n      <td>0.348565</td>\n      <td>0.349800</td>\n      <td>...</td>\n      <td>-0.150880</td>\n      <td>0.037996</td>\n      <td>0.062875</td>\n      <td>0.347832</td>\n      <td>0.089398</td>\n      <td>0.153427</td>\n      <td>0.179235</td>\n      <td>0.222085</td>\n      <td>-0.207473</td>\n      <td>0.224725</td>\n    </tr>\n    <tr>\n      <th>4</th>\n      <td>0.414870</td>\n      <td>-0.030957</td>\n      <td>0.144085</td>\n      <td>0.364719</td>\n      <td>0.477374</td>\n      <td>0.243302</td>\n      <td>-0.323718</td>\n      <td>0.260391</td>\n      <td>0.293310</td>\n      <td>0.366617</td>\n      <td>...</td>\n      <td>-0.647122</td>\n      <td>-0.042693</td>\n      <td>-0.054920</td>\n      <td>0.123561</td>\n      <td>0.114638</td>\n      <td>0.238210</td>\n      <td>-0.047380</td>\n      <td>0.512520</td>\n      <td>-0.163860</td>\n      <td>0.054209</td>\n    </tr>\n    <tr>\n      <th>...</th>\n      <td>...</td>\n      <td>...</td>\n      <td>...</td>\n      <td>...</td>\n      <td>...</td>\n      <td>...</td>\n      <td>...</td>\n      <td>...</td>\n      <td>...</td>\n      <td>...</td>\n      <td>...</td>\n      <td>...</td>\n      <td>...</td>\n      <td>...</td>\n      <td>...</td>\n      <td>...</td>\n      <td>...</td>\n      <td>...</td>\n      <td>...</td>\n      <td>...</td>\n      <td>...</td>\n    </tr>\n    <tr>\n      <th>250</th>\n      <td>0.407330</td>\n      <td>-0.093537</td>\n      <td>-0.160269</td>\n      <td>-0.390564</td>\n      <td>1.245345</td>\n      <td>0.242089</td>\n      <td>0.186852</td>\n      <td>0.137276</td>\n      <td>0.356397</td>\n      <td>0.733185</td>\n      <td>...</td>\n      <td>0.097091</td>\n      <td>-0.010932</td>\n      <td>-0.235728</td>\n      <td>-0.043733</td>\n      <td>0.312129</td>\n      <td>-0.002624</td>\n      <td>-0.082250</td>\n      <td>-0.153025</td>\n      <td>-0.408372</td>\n      <td>0.040547</td>\n    </tr>\n    <tr>\n      <th>251</th>\n      <td>0.530511</td>\n      <td>-0.378273</td>\n      <td>0.135925</td>\n      <td>0.131040</td>\n      <td>1.591201</td>\n      <td>0.820110</td>\n      <td>-0.030905</td>\n      <td>-0.044211</td>\n      <td>0.165144</td>\n      <td>0.324692</td>\n      <td>...</td>\n      <td>0.030805</td>\n      <td>-0.010932</td>\n      <td>0.156236</td>\n      <td>0.074423</td>\n      <td>0.505206</td>\n      <td>-0.059609</td>\n      <td>-0.307180</td>\n      <td>-0.056433</td>\n      <td>-0.455711</td>\n      <td>-0.142204</td>\n    </tr>\n    <tr>\n      <th>252</th>\n      <td>0.452210</td>\n      <td>0.574761</td>\n      <td>-0.080612</td>\n      <td>0.009547</td>\n      <td>1.378137</td>\n      <td>0.396256</td>\n      <td>0.078540</td>\n      <td>-0.403259</td>\n      <td>0.460308</td>\n      <td>0.580828</td>\n      <td>...</td>\n      <td>0.087118</td>\n      <td>-0.095732</td>\n      <td>0.856929</td>\n      <td>0.077832</td>\n      <td>0.505206</td>\n      <td>-0.396341</td>\n      <td>-0.045857</td>\n      <td>-0.153025</td>\n      <td>-0.000431</td>\n      <td>-0.394028</td>\n    </tr>\n    <tr>\n      <th>253</th>\n      <td>0.148125</td>\n      <td>-0.114624</td>\n      <td>0.119461</td>\n      <td>0.105054</td>\n      <td>1.031677</td>\n      <td>0.755604</td>\n      <td>0.432216</td>\n      <td>0.466481</td>\n      <td>1.165594</td>\n      <td>0.936327</td>\n      <td>...</td>\n      <td>0.133203</td>\n      <td>-0.010932</td>\n      <td>0.077157</td>\n      <td>-0.106241</td>\n      <td>0.104198</td>\n      <td>0.048701</td>\n      <td>-0.351337</td>\n      <td>0.116828</td>\n      <td>-0.336613</td>\n      <td>0.254230</td>\n    </tr>\n    <tr>\n      <th>254</th>\n      <td>0.144244</td>\n      <td>0.042677</td>\n      <td>0.100827</td>\n      <td>-0.258393</td>\n      <td>1.463522</td>\n      <td>0.715142</td>\n      <td>0.393604</td>\n      <td>0.146926</td>\n      <td>0.393525</td>\n      <td>-0.141356</td>\n      <td>...</td>\n      <td>0.187199</td>\n      <td>0.034658</td>\n      <td>-0.285468</td>\n      <td>0.050393</td>\n      <td>0.284080</td>\n      <td>0.048701</td>\n      <td>-0.222677</td>\n      <td>-0.153025</td>\n      <td>-0.773508</td>\n      <td>-0.094492</td>\n    </tr>\n  </tbody>\n</table>\n<p>255 rows × 18211 columns</p>\n</div>"
     },
     "execution_count": 57,
     "metadata": {},
     "output_type": "execute_result"
    }
   ],
   "source": [
    "y_pred"
   ],
   "metadata": {
    "collapsed": false,
    "ExecuteTime": {
     "end_time": "2023-10-09T10:22:05.559266600Z",
     "start_time": "2023-10-09T10:22:05.515351500Z"
    }
   },
   "id": "eb34955250de579e"
  },
  {
   "cell_type": "code",
   "execution_count": null,
   "outputs": [],
   "source": [],
   "metadata": {
    "collapsed": false
   },
   "id": "a88eee845fe8cb22"
  }
 ],
 "metadata": {
  "kernelspec": {
   "display_name": "Python 3",
   "language": "python",
   "name": "python3"
  },
  "language_info": {
   "codemirror_mode": {
    "name": "ipython",
    "version": 2
   },
   "file_extension": ".py",
   "mimetype": "text/x-python",
   "name": "python",
   "nbconvert_exporter": "python",
   "pygments_lexer": "ipython2",
   "version": "2.7.6"
  }
 },
 "nbformat": 4,
 "nbformat_minor": 5
}
